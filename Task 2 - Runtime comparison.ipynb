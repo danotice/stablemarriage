{
 "cells": [
  {
   "cell_type": "markdown",
   "id": "1fca9166",
   "metadata": {
    "kernel": "SoS"
   },
   "source": [
    "# Task 2 - Runtime comparison\n",
    "\n",
    "## R package runtime"
   ]
  },
  {
   "cell_type": "code",
   "execution_count": 10,
   "id": "8c21e7de",
   "metadata": {
    "kernel": "R"
   },
   "outputs": [
    {
     "name": "stderr",
     "output_type": "stream",
     "text": [
      "── \u001b[1mAttaching packages\u001b[22m ─────────────────────────────────────── tidyverse 1.3.1 ──\n",
      "\n",
      "\u001b[32m✔\u001b[39m \u001b[34mggplot2\u001b[39m 3.3.5     \u001b[32m✔\u001b[39m \u001b[34mpurrr  \u001b[39m 0.3.4\n",
      "\u001b[32m✔\u001b[39m \u001b[34mtibble \u001b[39m 3.1.6     \u001b[32m✔\u001b[39m \u001b[34mdplyr  \u001b[39m 1.0.8\n",
      "\u001b[32m✔\u001b[39m \u001b[34mtidyr  \u001b[39m 1.2.0     \u001b[32m✔\u001b[39m \u001b[34mforcats\u001b[39m 0.5.1\n",
      "\n",
      "── \u001b[1mConflicts\u001b[22m ────────────────────────────────────────── tidyverse_conflicts() ──\n",
      "\u001b[31m✖\u001b[39m \u001b[34mdplyr\u001b[39m::\u001b[32mfilter()\u001b[39m masks \u001b[34mstats\u001b[39m::filter()\n",
      "\u001b[31m✖\u001b[39m \u001b[34mdplyr\u001b[39m::\u001b[32mlag()\u001b[39m    masks \u001b[34mstats\u001b[39m::lag()\n",
      "\n"
     ]
    }
   ],
   "source": [
    "#R packages used in task\n",
    "library(stringr)\n",
    "library(readr)\n",
    "library(tidyverse)\n",
    "library(stablemarriage)"
   ]
  },
  {
   "cell_type": "code",
   "execution_count": 2,
   "id": "09ebe09c",
   "metadata": {
    "kernel": "R"
   },
   "outputs": [],
   "source": [
    "#Generates n x n preference tables and runs and times the algorithm using the R package\n",
    "check_times_R = function(n, runs){\n",
    "  M = str_c(\"M\",seq(n))\n",
    "  f = M = str_c(\"f\",seq(n))\n",
    "  \n",
    "  times = 0\n",
    "  \n",
    "  for (i in 1:runs) {\n",
    "    M_tab = random_pref_table(M,f)\n",
    "    F_tab = random_pref_table(f,M)\n",
    "    \n",
    "    start = Sys.time()\n",
    "    match = find_stable_marriages(M_tab,F_tab,\"U\") \n",
    "    end = Sys.time()\n",
    "    times = times + end-start\n",
    "  }\n",
    "  return(times/runs)\n",
    "}"
   ]
  },
  {
   "cell_type": "code",
   "execution_count": 3,
   "id": "12e32e86",
   "metadata": {
    "kernel": "R",
    "scrolled": true
   },
   "outputs": [
    {
     "name": "stderr",
     "output_type": "stream",
     "text": [
      "Size 1\n",
      "Size 2\n",
      "Size 3\n",
      "Size 4\n",
      "Size 5\n",
      "Size 6\n",
      "Size 7\n",
      "Size 8\n",
      "Size 9\n",
      "Size 10\n",
      "Size 11\n",
      "Size 12\n",
      "Size 13\n",
      "Size 14\n",
      "Size 15\n",
      "Size 16\n",
      "Size 17\n",
      "Size 18\n",
      "Size 19\n",
      "Size 20\n",
      "Size 22\n",
      "Size 24\n",
      "Size 26\n",
      "Size 28\n",
      "Size 30\n",
      "Size 32\n",
      "Size 34\n",
      "Size 36\n",
      "Size 38\n",
      "Size 40\n",
      "Size 42\n",
      "Size 44\n",
      "Size 46\n",
      "Size 48\n",
      "Size 50\n",
      "Size 55\n",
      "Size 60\n",
      "Size 65\n",
      "Size 70\n",
      "Size 75\n",
      "Size 80\n",
      "Size 85\n",
      "Size 90\n",
      "Size 95\n",
      "Size 100\n",
      "Size 110\n",
      "Size 120\n",
      "Size 130\n",
      "Size 140\n",
      "Size 150\n",
      "Size 160\n",
      "Size 170\n",
      "Size 180\n",
      "Size 190\n",
      "Size 200\n",
      "Size 210\n",
      "Size 220\n",
      "Size 230\n",
      "Size 240\n",
      "Size 250\n"
     ]
    }
   ],
   "source": [
    "if (file.exists(\"R implementation times.csv\")){\n",
    "  Times_R = read.csv(\"R implementation times.csv\")\n",
    "  \n",
    "}else{\n",
    "  \n",
    "  set.seed(111111)\n",
    "  sizes = c(1:20,seq(22,50,2),seq(55,100,5),seq(110,250,10))\n",
    "  Times = c()\n",
    "  for (n in sizes){\n",
    "    Times = c(Times, check_times_R(n,100))\n",
    "    message(\"Size \",n,appendLF = F)\n",
    "  }\n",
    "  \n",
    "  Times_R = data.frame(n = sizes, time = Times)\n",
    "  write_csv(Times_R,\"R implementation times.csv\")\n",
    "  \n",
    "}"
   ]
  },
  {
   "cell_type": "markdown",
   "id": "1e87f8ff",
   "metadata": {
    "kernel": "SoS"
   },
   "source": [
    "## Python Implementation\n",
    "\n",
    "Code copied from Python Programming assignment. Analysis was redone on the Linux virtual machine instead of using the times saved from the Python assessment so that the difference in run times cannot be partially attributed to computing power."
   ]
  },
  {
   "cell_type": "code",
   "execution_count": 5,
   "id": "dd0fdf18",
   "metadata": {
    "kernel": "Python 3 (ipykernel)"
   },
   "outputs": [],
   "source": [
    "#Python libraries used in this task\n",
    "\n",
    "import random\n",
    "import pandas as pd\n",
    "\n",
    "import bidict as bd\n",
    "import copy\n",
    "\n",
    "import time\n",
    "from os import listdir\n",
    "import numpy as np\n",
    "import csv"
   ]
  },
  {
   "cell_type": "code",
   "execution_count": 6,
   "id": "140e599b",
   "metadata": {
    "kernel": "Python 3 (ipykernel)"
   },
   "outputs": [],
   "source": [
    "def create_pref_tables(males, females):\n",
    "    \"\"\"\n",
    "    Input: two lists of distinct and mutually disjoint symbols of equal length\n",
    "    Randomly generates a prefence list for each male and female in the given lists\n",
    "    Output: two random preference tables (dictionaries with string keys and list values)\n",
    "    \"\"\"\n",
    "    \n",
    "    #partial check for valid input\n",
    "    if len(males) != len(females):\n",
    "        return \n",
    "    \n",
    "    N = len(males) \n",
    "    \n",
    "    #male preference table\n",
    "    male_prefs = dict()\n",
    "    for m in males:\n",
    "        male_prefs[m] = random.sample(females,N)\n",
    "    \n",
    "    #create female preference table\n",
    "    female_prefs = dict()\n",
    "    for f in females:\n",
    "        female_prefs[f] = random.sample(males,N)\n",
    "    \n",
    "    return male_prefs, female_prefs\n",
    "    \n",
    "\n",
    "    \n",
    "def pref_to_rank_table(pref_table,options):\n",
    "    \"\"\"\n",
    "    Input: preference table (dictionary) and the list of keys for the opposite gender\n",
    "    \n",
    "    Rows are keys from pref_table, columns are values from the list options\n",
    "    Assigns a score for each preference: 1 is the lowest score, N is the rank of the most desirable\n",
    "    \n",
    "    Output: rank table (dataframe) \n",
    "    \"\"\"    \n",
    "    \n",
    "    N = len(options)\n",
    "    ranks = dict()\n",
    "    for p, prefs in pref_table.items():        \n",
    "        ranks[p] = [N - prefs.index(options[i]) for i in range(N)] #calculating score from index of preference\n",
    "    \n",
    "    return pd.DataFrame.from_dict(ranks, orient='index', columns = options)\n",
    "\n",
    "\n",
    "def find_stable_marriages(male_pref, female_pref, U):\n",
    "    \"\"\"\n",
    "    Input: 2 preference tables (dictionary), string for undesirable male\n",
    "    Uses preference tables and runs the Fundamental Algorithm to find a stable marriage\n",
    "    Output: a stable marriage (bidict with key males and values female partner)\n",
    "    \"\"\"\n",
    "    \n",
    "    M = list(male_pref.keys())\n",
    "    k = 0\n",
    "    n = len(M)\n",
    "    matchings = dict(zip(female_pref.keys(),[U]*n)) #initial matching with keys females and value undesirable male\n",
    "    \n",
    "    #updating female rank table to include undesirable male\n",
    "    F_rank = pref_to_rank_table(female_pref,M)\n",
    "    F_rank[U] = [0]*n\n",
    "    \n",
    "    M_working = copy.deepcopy(male_pref) #copy to not change original input\n",
    "    \n",
    "    while k<n:\n",
    "        X = M[k]\n",
    "        while X != U:\n",
    "            x = M_working[X][0] #not pop because we remove it after changing X\n",
    "            \n",
    "            #update female's partner if better than current partner\n",
    "            if F_rank.at[x,X] > F_rank.at[x,matchings[x]]:\n",
    "                X, matchings[x] = matchings[x], X\n",
    "                \n",
    "            if X != U: #X is female's previous partner\n",
    "                M_working[X].remove(x) \n",
    "        k += 1\n",
    "\n",
    "    #final matchings as bidict with male as keys\n",
    "    \n",
    "    return bd.bidict(matchings).inverse     \n"
   ]
  },
  {
   "cell_type": "code",
   "execution_count": 7,
   "id": "51e83049",
   "metadata": {
    "kernel": "Python 3 (ipykernel)"
   },
   "outputs": [],
   "source": [
    "def check_times(n,runs):\n",
    "    \"\"\"Generates n x n preference tables and runs and times the algorithm\"\"\"\n",
    "    \n",
    "    M = ['M'+str(i) for i in range(n)]\n",
    "    f = ['f'+str(i) for i in range(n)]\n",
    "\n",
    "    times = 0\n",
    "\n",
    "    for i in range(runs) :\n",
    "        M_tab, F_tab = create_pref_tables(M,f)\n",
    "\n",
    "        start = time.perf_counter()\n",
    "        match = find_stable_marriages(M_tab,F_tab,\"U\") \n",
    "        end = time.perf_counter()   \n",
    "        times += end-start\n",
    "        \n",
    "    return times/runs #average time per run\n",
    "\n",
    "    "
   ]
  },
  {
   "cell_type": "code",
   "execution_count": 8,
   "id": "4d4b8e2f",
   "metadata": {
    "kernel": "Python 3 (ipykernel)"
   },
   "outputs": [
    {
     "name": "stdout",
     "output_type": "stream",
     "text": [
      "Size  250\r"
     ]
    }
   ],
   "source": [
    "#to load times already saved\n",
    "fileName = \"Python implementation times.csv\"\n",
    "if fileName in listdir(): \n",
    "    Times_Python = pd.read_csv(r\"Python implementation times.csv\")\n",
    "\n",
    "else:\n",
    "    #to actually run the code for different sized tables\n",
    "    random.seed(1000)\n",
    "    Times = dict()\n",
    "    sizes = list(range(1,21)) + list(range(22, 50,2)) + list(range(50,100,5)) + list(range(100,251,10))\n",
    "    for n in sizes:\n",
    "        Times[n] = check_times(n,100)\n",
    "        print (\"Size \",n, end=\"\\r\")\n",
    "        \n",
    "    #to save the output\n",
    "    Times_Python = pd.DataFrame(Times.items(), columns=['n', 'time'])\n",
    "    Times_Python.to_csv(r\"Python implementation times.csv\")\n",
    "    "
   ]
  },
  {
   "cell_type": "markdown",
   "id": "244fcb41",
   "metadata": {
    "kernel": "Python 3 (ipykernel)"
   },
   "source": [
    "## Comparison of Implementations"
   ]
  },
  {
   "cell_type": "code",
   "execution_count": 13,
   "id": "4ae2b9ad",
   "metadata": {
    "kernel": "R"
   },
   "outputs": [
    {
     "name": "stderr",
     "output_type": "stream",
     "text": [
      "New names:\n",
      "* `` -> ...1\n",
      "\n"
     ]
    },
    {
     "data": {
      "image/png": "[encoded data removed]",
      "text/plain": [
       "plot without title"
      ]
     },
     "metadata": {
      "image/png": {
       "height": 420,
       "width": 420
      }
     },
     "output_type": "display_data"
    }
   ],
   "source": [
    "Times_R = read_csv(\"R implementation times.csv\", show_col_types = FALSE)\n",
    "Times_Python = read_csv(\"Python implementation times.csv\", col_types = cols(...1 = col_skip()))\n",
    "\n",
    "ggplot() +\n",
    "  geom_line(aes(x = n, y = time, colour = \"R\"), data = Times_R) +\n",
    "  geom_line(aes(x = n, y = time, colour = \"Python\"), data = Times_Python) +\n",
    "  labs(x = \"Preference table size\" , y = \"Average time (s)\", title = \"Runtime comparison\", colour = \"Implementation\") \n",
    "  \n"
   ]
  },
  {
   "cell_type": "markdown",
   "id": "4d32e417",
   "metadata": {
    "kernel": "Python 3 (ipykernel)"
   },
   "source": [
    "As the plot above shows, the Python implementation is more efficient for smaller preference tables. For the R implementation, the run time increases much faster as n increase, but then abruptly decrease at n=130, to become more efficient than the Python implementation. This also happened when I ran the code using RStudio for n from 1 to 100. The run time would increase with order $n^2$ until about $n=70$, where it sharply decreased and then continued to increase at a slower rate. I honestly have no idea why this would be happening, except that it may be because I ran these sequentially in a for loop."
   ]
  }
 ],
 "metadata": {
  "kernelspec": {
   "display_name": "SoS",
   "language": "sos",
   "name": "sos"
  },
  "language_info": {
   "codemirror_mode": "sos",
   "file_extension": ".sos",
   "mimetype": "text/x-sos",
   "name": "sos",
   "nbconvert_exporter": "sos_notebook.converter.SoS_Exporter",
   "pygments_lexer": "sos"
  },
  "sos": {
   "kernels": [
    [
     "Python 3 (ipykernel)",
     "python3",
     "python3",
     "",
     {
      "name": "ipython",
      "version": 3
     }
    ],
    [
     "R",
     "ir",
     "R",
     "",
     "r"
    ]
   ],
   "panel": {
    "displayed": true,
    "height": 0
   },
   "version": "0.22.9"
  }
 },
 "nbformat": 4,
 "nbformat_minor": 5
}
